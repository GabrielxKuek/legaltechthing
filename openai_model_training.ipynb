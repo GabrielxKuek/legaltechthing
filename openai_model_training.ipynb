{
 "cells": [
  {
   "cell_type": "code",
   "execution_count": 2,
   "id": "d68c60f8",
   "metadata": {},
   "outputs": [],
   "source": [
    "import openai\n",
    "from dotenv import load_dotenv\n",
    "import os\n",
    "\n",
    "load_dotenv()\n",
    "openai.api_key = os.getenv(\"OPENAI_API_KEY\")"
   ]
  },
  {
   "cell_type": "code",
   "execution_count": null,
   "id": "7817eb19",
   "metadata": {},
   "outputs": [],
   "source": [
    "# ================\n",
    "# Upload the File\n",
    "# ================\n",
    "file_response = openai.File.create(\n",
    "    file=open(\"arbitration_fine_tuning.jsonl\", \"rb\"),\n",
    "    purpose=\"fine-tune\"\n",
    ")\n",
    "\n",
    "file_id = file_response.id\n",
    "print(f\"File uploaded with ID: {file_id}\")"
   ]
  },
  {
   "cell_type": "code",
   "execution_count": 5,
   "id": "f5d6ff22",
   "metadata": {},
   "outputs": [
    {
     "name": "stdout",
     "output_type": "stream",
     "text": [
      "Fine-tuning job created with ID: ftjob-qab1WrLVa7AoGzoMWE9sATWL\n"
     ]
    }
   ],
   "source": [
    "# ==================\n",
    "# Start Fine Tuning\n",
    "# ==================\n",
    "file_id = \"file-JGFkTbSZRDArWrpWsNx7PX\"\n",
    "\n",
    "# Start fine-tuning with a supported model\n",
    "fine_tune_response = openai.FineTuningJob.create(\n",
    "    training_file=file_id,\n",
    "    model=\"gpt-4o-mini-2024-07-18\",\n",
    "    hyperparameters={\n",
    "        \"n_epochs\": 3,\n",
    "        \"batch_size\": 1,\n",
    "        \"learning_rate_multiplier\": 0.1\n",
    "    }\n",
    ")\n",
    "\n",
    "job_id = fine_tune_response.id\n",
    "print(f\"Fine-tuning job created with ID: {job_id}\")"
   ]
  },
  {
   "cell_type": "code",
   "execution_count": 17,
   "id": "bb1b7374",
   "metadata": {},
   "outputs": [
    {
     "name": "stdout",
     "output_type": "stream",
     "text": [
      "Status: succeeded\n",
      "training complete\n",
      "fine-tuned model ID: ft:gpt-4o-mini-2024-07-18:personal::CFU019NU\n",
      "\n",
      "--- Recent Training Events ---\n",
      "1757807056: The job has successfully completed\n",
      "1757807038: Usage policy evaluations completed, model is now enabled for sampling\n",
      "1757807038: Moderation checks for snapshot ft:gpt-4o-mini-2024-07-18:personal::CFU019NU passed.\n",
      "1757806274: Evaluating model against our usage policies\n",
      "1757806274: New fine-tuned model created\n"
     ]
    }
   ],
   "source": [
    "# ==========================\n",
    "# Monitor Training Progress\n",
    "# ==========================\n",
    "\n",
    "job_id = \"ftjob-qab1WrLVa7AoGzoMWE9sATWL\"\n",
    "\n",
    "# Check status\n",
    "status = openai.FineTuningJob.retrieve(job_id)\n",
    "print(f\"Status: {status.status}\")\n",
    "\n",
    "# If completed, get your model ID\n",
    "if status.status == \"succeeded\":\n",
    "    print(f\"training complete\")\n",
    "    print(f\"fine-tuned model ID: {status.fine_tuned_model}\")\n",
    "elif status.status == \"failed\":\n",
    "    print(\"training failed!\")\n",
    "    print(f\"Error: {status.error}\")\n",
    "elif status.status == \"running\":\n",
    "    print(\"in progress...\")\n",
    "else:\n",
    "    print(f\"Current status: {status.status}\")\n",
    "\n",
    "# Show recent training events\n",
    "print(\"\\n--- Recent Training Events ---\")\n",
    "events = openai.FineTuningJob.list_events(id=job_id, limit=5)\n",
    "for event in events.data:\n",
    "    print(f\"{event.created_at}: {event.message}\")"
   ]
  }
 ],
 "metadata": {
  "kernelspec": {
   "display_name": "legaltechreal",
   "language": "python",
   "name": "python3"
  },
  "language_info": {
   "codemirror_mode": {
    "name": "ipython",
    "version": 3
   },
   "file_extension": ".py",
   "mimetype": "text/x-python",
   "name": "python",
   "nbconvert_exporter": "python",
   "pygments_lexer": "ipython3",
   "version": "3.10.18"
  }
 },
 "nbformat": 4,
 "nbformat_minor": 5
}
